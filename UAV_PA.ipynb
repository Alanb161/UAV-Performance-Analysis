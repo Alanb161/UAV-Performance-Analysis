{
  "nbformat": 4,
  "nbformat_minor": 0,
  "metadata": {
    "colab": {
      "name": "UAV_PA.ipynb",
      "provenance": [],
      "collapsed_sections": [
        "Ebgkz0ts8Y5U",
        "BRTiqdpV9V6d"
      ],
      "include_colab_link": true
    },
    "kernelspec": {
      "display_name": "Python 3",
      "name": "python3"
    },
    "language_info": {
      "name": "python"
    }
  },
  "cells": [
    {
      "cell_type": "markdown",
      "metadata": {
        "id": "view-in-github",
        "colab_type": "text"
      },
      "source": [
        "<a href=\"https://colab.research.google.com/github/Alanb161/UAV-Performance-Analysis/blob/main/UAV_PA.ipynb\" target=\"_parent\"><img src=\"https://colab.research.google.com/assets/colab-badge.svg\" alt=\"Open In Colab\"/></a>"
      ]
    },
    {
      "cell_type": "markdown",
      "metadata": {
        "id": "dPZ-TeHQkk0S"
      },
      "source": [
        "**ALGORITMO DE AUTOMATIZAÇÃO DE CÁLCULOS DE ANÁLISE DE DESEMPENHO**\n",
        "---"
      ]
    },
    {
      "cell_type": "markdown",
      "metadata": {
        "id": "Bn8avE1Akx6y"
      },
      "source": [
        "SETUP\n",
        "---"
      ]
    },
    {
      "cell_type": "code",
      "metadata": {
        "colab": {
          "base_uri": "https://localhost:8080/"
        },
        "id": "FhvayWN5gHD7",
        "outputId": "69e9247a-b781-415c-8a65-be49a1446666"
      },
      "source": [
        "!pip install --upgrade gspread\n",
        "from google.colab import auth\n",
        "auth.authenticate_user()\n",
        "import gspread\n",
        "from oauth2client.client import GoogleCredentials\n",
        "gc = gspread.authorize(GoogleCredentials.get_application_default())\n",
        "\n",
        "import math as math\n",
        "import matplotlib.pyplot as plt\n",
        "import numpy as np\n",
        "import pandas as pd\n",
        "from sklearn.model_selection import train_test_split\n",
        "from sklearn.preprocessing import PolynomialFeatures\n",
        "from sklearn.linear_model import LinearRegression\n",
        "from termcolor import colored"
      ],
      "execution_count": null,
      "outputs": [
        {
          "output_type": "stream",
          "name": "stdout",
          "text": [
            "Requirement already satisfied: gspread in /usr/local/lib/python3.7/dist-packages (4.0.1)\n",
            "Requirement already satisfied: google-auth>=1.12.0 in /usr/local/lib/python3.7/dist-packages (from gspread) (1.35.0)\n",
            "Requirement already satisfied: google-auth-oauthlib>=0.4.1 in /usr/local/lib/python3.7/dist-packages (from gspread) (0.4.6)\n",
            "Requirement already satisfied: pyasn1-modules>=0.2.1 in /usr/local/lib/python3.7/dist-packages (from google-auth>=1.12.0->gspread) (0.2.8)\n",
            "Requirement already satisfied: six>=1.9.0 in /usr/local/lib/python3.7/dist-packages (from google-auth>=1.12.0->gspread) (1.15.0)\n",
            "Requirement already satisfied: setuptools>=40.3.0 in /usr/local/lib/python3.7/dist-packages (from google-auth>=1.12.0->gspread) (57.4.0)\n",
            "Requirement already satisfied: rsa<5,>=3.1.4 in /usr/local/lib/python3.7/dist-packages (from google-auth>=1.12.0->gspread) (4.7.2)\n",
            "Requirement already satisfied: cachetools<5.0,>=2.0.0 in /usr/local/lib/python3.7/dist-packages (from google-auth>=1.12.0->gspread) (4.2.2)\n",
            "Requirement already satisfied: requests-oauthlib>=0.7.0 in /usr/local/lib/python3.7/dist-packages (from google-auth-oauthlib>=0.4.1->gspread) (1.3.0)\n",
            "Requirement already satisfied: pyasn1<0.5.0,>=0.4.6 in /usr/local/lib/python3.7/dist-packages (from pyasn1-modules>=0.2.1->google-auth>=1.12.0->gspread) (0.4.8)\n",
            "Requirement already satisfied: requests>=2.0.0 in /usr/local/lib/python3.7/dist-packages (from requests-oauthlib>=0.7.0->google-auth-oauthlib>=0.4.1->gspread) (2.23.0)\n",
            "Requirement already satisfied: oauthlib>=3.0.0 in /usr/local/lib/python3.7/dist-packages (from requests-oauthlib>=0.7.0->google-auth-oauthlib>=0.4.1->gspread) (3.1.1)\n",
            "Requirement already satisfied: urllib3!=1.25.0,!=1.25.1,<1.26,>=1.21.1 in /usr/local/lib/python3.7/dist-packages (from requests>=2.0.0->requests-oauthlib>=0.7.0->google-auth-oauthlib>=0.4.1->gspread) (1.24.3)\n",
            "Requirement already satisfied: certifi>=2017.4.17 in /usr/local/lib/python3.7/dist-packages (from requests>=2.0.0->requests-oauthlib>=0.7.0->google-auth-oauthlib>=0.4.1->gspread) (2021.5.30)\n",
            "Requirement already satisfied: idna<3,>=2.5 in /usr/local/lib/python3.7/dist-packages (from requests>=2.0.0->requests-oauthlib>=0.7.0->google-auth-oauthlib>=0.4.1->gspread) (2.10)\n",
            "Requirement already satisfied: chardet<4,>=3.0.2 in /usr/local/lib/python3.7/dist-packages (from requests>=2.0.0->requests-oauthlib>=0.7.0->google-auth-oauthlib>=0.4.1->gspread) (3.0.4)\n"
          ]
        }
      ]
    },
    {
      "cell_type": "markdown",
      "metadata": {
        "id": "bVVnVSov7a5J"
      },
      "source": [
        "IMPORTANDO DADOS DA POLAR DE ARRASTO"
      ]
    },
    {
      "cell_type": "code",
      "metadata": {
        "colab": {
          "base_uri": "https://localhost:8080/",
          "height": 886
        },
        "id": "InUxjNNFgtUq",
        "outputId": "da3dd5ec-d70e-4d1c-93f0-4364d1445b10"
      },
      "source": [
        "polar = pd.read_csv('Polar_arrasto_Bizao.csv')\n",
        "coef_drag = np.array(polar.iloc[:32, 1])\n",
        "coef_drag = coef_drag.reshape(-1,1)\n",
        "coef_lift = np.array(polar.iloc[:32, 2])\n",
        "coef_lift = coef_lift.reshape(-1, 1)\n",
        "\n",
        "poly_reg1 = PolynomialFeatures(degree = 5)\n",
        "coef_lift_poly = poly_reg1.fit_transform(coef_lift)\n",
        "lin_reg_polar = LinearRegression()\n",
        "lin_reg_polar.fit(coef_lift_poly, coef_drag)\n",
        "\n",
        "plt.scatter(coef_drag, coef_lift)\n",
        "plt.plot(coef_drag, coef_lift)\n",
        "plt.title('Coef_lift(coef_drag)')\n",
        "plt.ylabel('Coef de sustentação')\n",
        "plt.xlabel('Coef de arrasto')\n",
        "plt.show()\n",
        "\n",
        "print('==========================================================')\n",
        "\n",
        "plt.scatter(coef_lift, coef_drag, color = 'black')\n",
        "plt.plot(coef_lift, lin_reg_polar.predict(poly_reg1.fit_transform(coef_lift)))\n",
        "plt.title('Coef_drag(coef_lift)')\n",
        "plt.ylabel('Coef de arrasto')\n",
        "plt.xlabel('Coef de sustentação')\n",
        "plt.show()\n",
        "\n",
        "alpha = np.array(polar.iloc[:32, 0])\n",
        "aero_eff = coef_lift/coef_drag\n",
        "plt.scatter(alpha, aero_eff)\n",
        "plt.plot(alpha, aero_eff)\n",
        "plt.title(\"Eficiência aerodinâmica x ângulo de ataque\")\n",
        "plt.ylabel(\"Eficiência aerodinâmica\")\n",
        "plt.xlabel(\"Alpha\")"
      ],
      "execution_count": null,
      "outputs": [
        {
          "output_type": "display_data",
          "data": {
            "image/png": "[encoded data removed]",
            "text/plain": [
              "<Figure size 432x288 with 1 Axes>"
            ]
          },
          "metadata": {
            "needs_background": "light"
          }
        },
        {
          "output_type": "stream",
          "name": "stdout",
          "text": [
            "==========================================================\n"
          ]
        },
        {
          "output_type": "display_data",
          "data": {
            "image/png": "[encoded data removed]",
            "text/plain": [
              "<Figure size 432x288 with 1 Axes>"
            ]
          },
          "metadata": {
            "needs_background": "light"
          }
        },
        {
          "output_type": "execute_result",
          "data": {
            "text/plain": [
              "Text(0.5, 0, 'Alpha')"
            ]
          },
          "metadata": {},
          "execution_count": 90
        },
        {
          "output_type": "display_data",
          "data": {
            "image/png": "[encoded data removed]",
            "text/plain": [
              "<Figure size 432x288 with 1 Axes>"
            ]
          },
          "metadata": {
            "needs_background": "light"
          }
        }
      ]
    },
    {
      "cell_type": "markdown",
      "metadata": {
        "id": "Ri1iE0yd7rXZ"
      },
      "source": [
        "IMPORTANDO DADOS DE TRAÇÃO DISPONÍVEL"
      ]
    },
    {
      "cell_type": "code",
      "metadata": {
        "colab": {
          "base_uri": "https://localhost:8080/",
          "height": 295
        },
        "id": "sLVTg1MDhUdy",
        "outputId": "b000c54a-363a-4ea1-d41a-b3d1fd8aa546"
      },
      "source": [
        "dataset = pd.read_csv('helice_td - 20x15.csv')\n",
        "v = np.array(dataset.iloc[:, 0])\n",
        "v = v.reshape(-1,1)\n",
        "Tdd = np.array(dataset.iloc[:, -1])\n",
        "Tdd = Tdd.reshape(-1, 1)\n",
        "\n",
        "poly_reg = PolynomialFeatures(degree = 5)\n",
        "v_poly = poly_reg.fit_transform(v)\n",
        "lin_reg_2 = LinearRegression()\n",
        "lin_reg_2.fit(v_poly, Tdd)\n",
        "\n",
        "plt.scatter(v, Tdd, color = 'black')\n",
        "plt.plot(v, lin_reg_2.predict(poly_reg.fit_transform(v)))\n",
        "plt.title('Tdd x v')\n",
        "plt.ylabel('Tração disponível [N]')\n",
        "plt.xlabel('Velocidade [m/s]')\n",
        "plt.show()"
      ],
      "execution_count": null,
      "outputs": [
        {
          "output_type": "display_data",
          "data": {
            "image/png": "[encoded data removed]",
            "text/plain": [
              "<Figure size 432x288 with 1 Axes>"
            ]
          },
          "metadata": {
            "needs_background": "light"
          }
        }
      ]
    },
    {
      "cell_type": "markdown",
      "metadata": {
        "id": "j2wVBX-q7lgZ"
      },
      "source": [
        "INPUTS QUE DEVEM SER INSERIDOS PELO USUÁRIO"
      ]
    },
    {
      "cell_type": "code",
      "metadata": {
        "id": "KgLGj7Gqg_FS"
      },
      "source": [
        "#Inputs manuais\n",
        "CL = 1.15958\n",
        "CD = 0.0854575\n",
        "S = 0.952\n",
        "CLmax = 1.32\n",
        "b = 2.5\n",
        "h = 0.135\n",
        "phi = ((16*(h/b))**2)/(1+(16*(h/b))**2)\n",
        "CDge = CD*phi\n",
        "g = 9.77\n",
        "dens = 1.074471\n",
        "mi = 0.03 \n",
        "hcru = 800\n",
        "hclimb = 60"
      ],
      "execution_count": null,
      "outputs": []
    },
    {
      "cell_type": "markdown",
      "metadata": {
        "id": "cXh2XsC78Iwv"
      },
      "source": [
        "MTOW E DESEMPENHO DE DECOLAGEM\n",
        "---"
      ]
    },
    {
      "cell_type": "code",
      "metadata": {
        "colab": {
          "base_uri": "https://localhost:8080/",
          "height": 1000
        },
        "id": "3O9goDXKh5as",
        "outputId": "726969e8-a69e-48ba-9c58-80ba47545959"
      },
      "source": [
        "dist = np.array([])\n",
        "mass = np.array([])\n",
        "mtow = np.array([])\n",
        "veloDec = np.array([])\n",
        "tempoDec = np.array([])\n",
        "tracaoDec = np.array([])\n",
        "\n",
        "V=0\n",
        "massa = 25\n",
        "L=0\n",
        "while (massa>5):\n",
        "    V=0\n",
        "    W = g*massa\n",
        "    L=0\n",
        "    D=0\n",
        "    A=0\n",
        "    R=0\n",
        "    T=0\n",
        "    space=0\n",
        "    time=0\n",
        "    Vstol = math.sqrt((2*W)/(dens*S*CLmax))\n",
        "    Vdec = Vstol*1.2*0.808\n",
        "    #Vdec = Vstol*1.2*0.765\n",
        "    V = Vdec\n",
        "    Tracao_disponivel_SJC = lin_reg_2.predict(poly_reg.fit_transform([[V]]))\n",
        "    T = float(Tracao_disponivel_SJC[[0]])*(dens/1.225)\n",
        "    D = (0.5*dens*(V**2)*CDge*S)\n",
        "    L = (0.5*dens*(V**2)*CL*S)\n",
        "    R = (W-L)*mi\n",
        "    A = (T-R-D)/massa\n",
        "    time = (V*massa)/(T-D-R)\n",
        "    space = (A*time*time)/2\n",
        "    if (space > 49.1 and space<49.5):\n",
        "        mtowDSJC = W\n",
        "        print(\"---------------\")\n",
        "        print(\"O MTOW real é: \"+str(W)+\"N\")\n",
        "        print(\"Dist: \"+str(space)+\"m\")\n",
        "        print(\"Massa: \"+str(massa)+\"kg\") \n",
        "        print(\"Tempo: \"+str(time)+\"s\")\n",
        "        print(\"Vdec: \"+str(Vstol*1.2)+\"m/s\") \n",
        "        print(\"Tração: \"+str(T)+\"N\")\n",
        "        print(\"---------------\")\n",
        "    dist = np.append(dist, [space])\n",
        "    mass = np.append(mass, [massa])\n",
        "    mtow = np.append(mtow, [W])\n",
        "    veloDec = np.append(veloDec, [V])\n",
        "    tempoDec = np.append(tempoDec, [time])\n",
        "    tracaoDec = np.append(tracaoDec, [T])\n",
        "    massa = massa - 0.01\n",
        "\n",
        "plt.scatter(dist, mass)\n",
        "plt.axis([0, 200, 1, 30])\n",
        "plt.title(\"Carga paga x Comprimento de pista de decolagem\")\n",
        "plt.grid()\n",
        "plt.xlabel(\"Distância [m]\")\n",
        "plt.ylabel(\"Massa [kg]\")\n",
        "plt.show()\n",
        "\n",
        "df_mtow_x_distDec = pd.DataFrame()\n",
        "\n",
        "df_mtow_x_distDec['MTOW [N]'] = mtow\n",
        "df_mtow_x_distDec['Distância [m]'] = dist\n",
        "df_mtow_x_distDec['Velocidade [m/s]'] = veloDec\n",
        "df_mtow_x_distDec['Tempo [s]'] = tempoDec\n",
        "df_mtow_x_distDec['Tração disponível [N]'] = tracaoDec\n",
        "\n",
        "planilha_PA = gc.open('PA_v_3_0')\n",
        "planilha_PA_aba_0 = gc.open('PA_v_3_0').get_worksheet(0)\n",
        "planilha_PA_aba_0.update([df_mtow_x_distDec.columns.values.tolist()] + df_mtow_x_distDec.values.tolist())    "
      ],
      "execution_count": null,
      "outputs": [
        {
          "output_type": "stream",
          "name": "stdout",
          "text": [
            "---------------\n",
            "O MTOW real é: 127.40079999998689N\n",
            "Dist: 49.49250493049078m\n",
            "Massa: 13.039999999998658kg\n",
            "Tempo: 7.431535170038931s\n",
            "Vdec: 16.484642475607796m/s\n",
            "Tração: 27.35152057622267N\n",
            "---------------\n",
            "---------------\n",
            "O MTOW real é: 127.30309999998688N\n",
            "Dist: 49.39759760836548m\n",
            "Massa: 13.029999999998658kg\n",
            "Tempo: 7.4201300714918705s\n",
            "Vdec: 16.478320464838145m/s\n",
            "Tração: 27.35747119265067N\n",
            "---------------\n",
            "---------------\n",
            "O MTOW real é: 127.20539999998688N\n",
            "Dist: 49.30282371180526m\n",
            "Massa: 13.019999999998658kg\n",
            "Tempo: 7.408737359518524s\n",
            "Vdec: 16.471996027658413m/s\n",
            "Tração: 27.363420765906373N\n",
            "---------------\n",
            "---------------\n",
            "O MTOW real é: 127.10769999998689N\n",
            "Dist: 49.20818307772149m\n",
            "Massa: 13.009999999998659kg\n",
            "Tempo: 7.397357020094681s\n",
            "Vdec: 16.465669161272658m/s\n",
            "Tração: 27.369369294289523N\n",
            "---------------\n",
            "---------------\n",
            "O MTOW real é: 127.00999999998689N\n",
            "Dist: 49.11367554328581m\n",
            "Massa: 12.999999999998659kg\n",
            "Tempo: 7.385989039219336s\n",
            "Vdec: 16.459339862879567m/s\n",
            "Tração: 27.375316776099297N\n",
            "---------------\n"
          ]
        },
        {
          "output_type": "display_data",
          "data": {
            "image/png": "[encoded data removed]",
            "text/plain": [
              "<Figure size 432x288 with 1 Axes>"
            ]
          },
          "metadata": {
            "needs_background": "light"
          }
        },
        {
          "output_type": "execute_result",
          "data": {
            "text/plain": [
              "{'spreadsheetId': '1eS9TC6zEmL7uplT3cjtUptF6vf07YBkXGnr-8jg_Urs',\n",
              " 'updatedCells': 10005,\n",
              " 'updatedColumns': 5,\n",
              " 'updatedRange': 'Decolagem!A1:E2001',\n",
              " 'updatedRows': 2001}"
            ]
          },
          "metadata": {},
          "execution_count": 93
        }
      ]
    },
    {
      "cell_type": "markdown",
      "metadata": {
        "id": "Ebgkz0ts8Y5U"
      },
      "source": [
        "TRAÇÃO REVERSA E DESEMPENHO DE POUSO\n",
        "---"
      ]
    },
    {
      "cell_type": "code",
      "metadata": {
        "colab": {
          "base_uri": "https://localhost:8080/"
        },
        "id": "KCOLg_1ziFF3",
        "outputId": "89b2fc4e-2c3b-4b84-95c2-de75b2dbb5f3"
      },
      "source": [
        "datasetRev = pd.read_csv('Treversa - 16x8.csv')\n",
        "\n",
        "vRev = np.array(datasetRev.iloc[:, 0])\n",
        "vRev = vRev.reshape(-1,1)\n",
        "TRev = np.array(datasetRev.iloc[:, 2])\n",
        "\n",
        "TRev = TRev.reshape(-1, 1)\n",
        "\n",
        "poly_regRev = PolynomialFeatures(degree = 5)\n",
        "v_polyRev = poly_regRev.fit_transform(vRev)\n",
        "lin_reg_Rev = LinearRegression()\n",
        "lin_reg_Rev.fit(v_polyRev, TRev)\n",
        "\n",
        "plt.scatter(vRev, TRev, color = 'black')\n",
        "plt.plot(vRev, lin_reg_Rev.predict(poly_regRev.fit_transform(vRev)))\n",
        "plt.title('Treversa x v')\n",
        "plt.ylabel('Tração reversa [N]')\n",
        "plt.xlabel('Velocidade [m/s]')\n",
        "plt.show()"
      ],
      "execution_count": null,
      "outputs": [
        {
          "output_type": "display_data",
          "data": {
            "image/png": "[encoded data removed]",
            "text/plain": [
              "<Figure size 432x288 with 1 Axes>"
            ]
          },
          "metadata": {
            "needs_background": "light"
          }
        }
      ]
    },
    {
      "cell_type": "code",
      "metadata": {
        "colab": {
          "base_uri": "https://localhost:8080/"
        },
        "id": "4FY_trv2iKsd",
        "outputId": "14016d64-916e-4c31-e74c-a27767ca2323"
      },
      "source": [
        "#POUSO SEM MANOBRA (DE PILOTAGEM) DE ARREDONDAMENTO E COM TRAÇÃO REVERSA\n",
        "\n",
        "distP1 = np.array([])\n",
        "massP1 = np.array([])\n",
        "mtowP1 = np.array([])\n",
        "tempoP1 = np.array([])\n",
        "veloAproxP1 = np.array([])\n",
        "acelMediaP1 = np.array([])\n",
        "\n",
        "CDge = CD*phi\n",
        "\n",
        "massa = 30\n",
        "while (massa>5):\n",
        "    V=0\n",
        "    W = g*massa\n",
        "    L=0\n",
        "    D=0\n",
        "    A=0\n",
        "    R=0\n",
        "    spaceP=0\n",
        "    timeP=0\n",
        "    Vstol = math.sqrt((2*W)/(dens*S*CLmax))\n",
        "    V = Vstol*1.3\n",
        "    D = (0.5*dens*((V*0.7)**2)*CDge*S)\n",
        "    L = (0.5*dens*((V*0.7)**2)*CLmax*S)\n",
        "    Tracao_reversa_SJC = lin_reg_Rev.predict(poly_regRev.fit_transform([[V]]))\n",
        "    Trev_SJC = float(Tracao_reversa_SJC)\n",
        "    Trev_SJC = Trev_SJC*(dens/1.225)\n",
        "    R = (W-L)*mi\n",
        "    A = (D+R+Trev_SJC)/massa\n",
        "    time = (V*massa)/(D+R+Trev_SJC)\n",
        "    spaceP = (A*time*time)/2\n",
        "\n",
        "    if (W == mtowDSJC):\n",
        "      print(\"Comprimento de pista de pouso para MTOW: \"+str(spaceP)+\"m\")\n",
        "\n",
        "    distP1 = np.append(distP1, [spaceP])\n",
        "    massP1 = np.append(massP1, [massa])\n",
        "    mtowP1 = np.append(mtowP1, [W])\n",
        "    tempoP1 = np.append(tempoP1, [time])\n",
        "    veloAproxP1 = np.append([veloAproxP1], V)\n",
        "    acelMediaP1 = np.append([acelMediaP1], A)\n",
        "\n",
        "    massa = massa - 0.01\n",
        "\n",
        "plt.scatter(distP1, massP1)\n",
        "plt.axis([0, 200, 1, 30])\n",
        "plt.title(\"Carga paga x Comprimento de pista de pouso\")\n",
        "plt.grid()\n",
        "plt.xlabel(\"Distância [m]\")\n",
        "plt.ylabel(\"Massa [kg]\")\n",
        "plt.show()\n",
        "\n",
        "df_mtow_x_distP = pd.DataFrame()\n",
        "df_mtow_x_distP['Distância [m]'] = distP1\n",
        "df_mtow_x_distP['MTOW [W]'] = mtowP1\n",
        "df_mtow_x_distP['Tempo [s]'] = tempoP1\n",
        "df_mtow_x_distP['Vaprox [m/s]'] = veloAproxP1\n",
        "df_mtow_x_distP['aceleração média [m/s^2]'] = acelMediaP1\n",
        "\n",
        "planilha_PA_aba_1 = gc.open('PA_v_3_0').get_worksheet(1)\n",
        "planilha_PA_aba_1.update([df_mtow_x_distP.columns.values.tolist()] + df_mtow_x_distP.values.tolist())"
      ],
      "execution_count": null,
      "outputs": [
        {
          "output_type": "display_data",
          "data": {
            "image/png": "[encoded data removed]",
            "text/plain": [
              "<Figure size 432x288 with 1 Axes>"
            ]
          },
          "metadata": {
            "needs_background": "light"
          }
        },
        {
          "output_type": "execute_result",
          "data": {
            "text/plain": [
              "{'spreadsheetId': '1eS9TC6zEmL7uplT3cjtUptF6vf07YBkXGnr-8jg_Urs',\n",
              " 'updatedCells': 12505,\n",
              " 'updatedColumns': 5,\n",
              " 'updatedRange': 'Pouso!A1:E2501',\n",
              " 'updatedRows': 2501}"
            ]
          },
          "metadata": {},
          "execution_count": 95
        }
      ]
    },
    {
      "cell_type": "code",
      "metadata": {
        "colab": {
          "base_uri": "https://localhost:8080/"
        },
        "id": "qACB2eIcaks2",
        "outputId": "83d788b2-6461-4a5c-de35-6e0681bc8ba9"
      },
      "source": [
        "#POUSO COM MANOBRA (DE PILOTAGEM) DE ARREDONDAMENTO E COM TRAÇÃO REVERSA\n",
        "\n",
        "distP2 = np.array([])\n",
        "massP2 = np.array([])\n",
        "mtowP2 = np.array([])\n",
        "tempoP2 = np.array([])\n",
        "veloAproxP2 = np.array([])\n",
        "acelMediaP2 = np.array([])\n",
        "blank = np.array([])\n",
        "\n",
        "massa = 30\n",
        "while (massa>5):\n",
        "    V=0\n",
        "    W = g*massa\n",
        "    L=0\n",
        "    D=0\n",
        "    A=0\n",
        "    R=0\n",
        "    spaceP=0\n",
        "    timeP=0\n",
        "    Vstol = math.sqrt((2*W)/(dens*S*CLmax))\n",
        "    V = Vstol  \n",
        "    D = (0.5*dens*((Vstol*0.7)**2)*CDge*S)\n",
        "    L = (0.5*dens*((Vstol*0.7)**2)*CL*S)\n",
        "    Tracao_reversa_SJC = lin_reg_Rev.predict(poly_regRev.fit_transform([[V]]))\n",
        "    Trev_SJC = float(Tracao_reversa_SJC)\n",
        "    Trev_SJC = Trev_SJC*(dens/1.225)\n",
        "    R = (W-L)*mi\n",
        "    A = (D+R+Trev_SJC)/massa\n",
        "    time = (V*massa)/(D+R+Trev_SJC)\n",
        "    spaceP = (A*time*time)/2\n",
        "\n",
        "    distP2 = np.append(distP2, [spaceP])\n",
        "    massP2 = np.append(massP2, [massa])\n",
        "    mtowP2 = np.append(mtowP2, [W])\n",
        "    tempoP2 = np.append(tempoP2, [time])\n",
        "    veloAproxP2 = np.append([veloAproxP2], V)\n",
        "    acelMediaP2 = np.append([acelMediaP2], A)\n",
        "    blank = np.append([blank], [\"---\"])\n",
        "\n",
        "    massa = massa - 0.01\n",
        "\n",
        "plt.scatter(distP2, massP2)\n",
        "plt.axis([0, 200, 1, 30])\n",
        "plt.title(\"Carga paga x Comprimento de pista de pouso\")\n",
        "plt.grid()\n",
        "plt.xlabel(\"Distância [m]\")\n",
        "plt.ylabel(\"Massa [kg]\")\n",
        "plt.show()\n",
        "\n",
        "df_mtow_x_distP['---'] = blank\n",
        "df_mtow_x_distP['Distância 2 [m]'] = distP2\n",
        "df_mtow_x_distP['MTOW 2 [W]'] = mtowP2\n",
        "df_mtow_x_distP['Tempo 2 [s]'] = tempoP2\n",
        "df_mtow_x_distP['Vaprox 2 [m/s]'] = veloAproxP2\n",
        "df_mtow_x_distP['aceleração média 2 [m/s^2]'] = acelMediaP2\n",
        "\n",
        "planilha_PA_aba_1 = gc.open('PA_v_3_0').get_worksheet(1)\n",
        "planilha_PA_aba_1.update([df_mtow_x_distP.columns.values.tolist()] + df_mtow_x_distP.values.tolist())"
      ],
      "execution_count": null,
      "outputs": [
        {
          "output_type": "display_data",
          "data": {
            "image/png": "[encoded data removed]",
            "text/plain": [
              "<Figure size 432x288 with 1 Axes>"
            ]
          },
          "metadata": {
            "needs_background": "light"
          }
        },
        {
          "output_type": "execute_result",
          "data": {
            "text/plain": [
              "{'spreadsheetId': '1eS9TC6zEmL7uplT3cjtUptF6vf07YBkXGnr-8jg_Urs',\n",
              " 'updatedCells': 27511,\n",
              " 'updatedColumns': 11,\n",
              " 'updatedRange': 'Pouso!A1:K2501',\n",
              " 'updatedRows': 2501}"
            ]
          },
          "metadata": {},
          "execution_count": 96
        }
      ]
    },
    {
      "cell_type": "markdown",
      "metadata": {
        "id": "WAoGlNEN8qof"
      },
      "source": [
        "DESEMPENHO EM CRUZEIRO\n",
        "---"
      ]
    },
    {
      "cell_type": "code",
      "metadata": {
        "id": "w2ueIR6diTuj"
      },
      "source": [
        "W = mtowDSJC \n",
        "v_array = np.array([])\n",
        "Pd_array = np.array([])\n",
        "Tdd_SJC = Tdd*(dens/1.225)\n",
        "Tr_array = np.array([])\n",
        "CL_array = np.array([])\n",
        "CD_array = np.array([])\n",
        "D_array = np.array([])\n",
        "Pr_array = np.array([])"
      ],
      "execution_count": null,
      "outputs": []
    },
    {
      "cell_type": "code",
      "metadata": {
        "id": "uZJUwDDgiUm_"
      },
      "source": [
        "i=1\n",
        "while float(v[i]) < 40:\n",
        "    Pd = Tdd_SJC[i] * v[i]\n",
        "    Pd_array = np.append(Pd_array, [Pd])\n",
        "    CL = (2*W)/(dens*S*(float(v[i])**2))\n",
        "    CL_array = np.append(CL_array, [CL])\n",
        "    CD_poly = float(lin_reg_polar.predict(poly_reg1.fit_transform([[CL]])))\n",
        "    CD_array = np.append(CD_array, [CD_poly])\n",
        "    D = dens*0.5*S*(float(v[i])**2)*CD_poly\n",
        "    D_array  = np.append(D_array, [D])\n",
        "    Tr = (W)/(CL/CD_poly)\n",
        "    Tr_array = np.append(Tr_array, [Tr])\n",
        "    Pr = Tr*float(v[i])\n",
        "    Pr_array = np.append(Pr_array, [Pr])\n",
        "    v_array = np.append(v_array, [v[i]])\n",
        "    i = i + 1"
      ],
      "execution_count": null,
      "outputs": []
    },
    {
      "cell_type": "code",
      "metadata": {
        "colab": {
          "base_uri": "https://localhost:8080/"
        },
        "id": "Q7XI4ICIimZS",
        "outputId": "7df4bc68-55ae-482e-e5b0-8f4bd4d3dcd2"
      },
      "source": [
        "v_series = pd.Series(v_array)\n",
        "Td_series = Tdd_SJC[1:39]\n",
        "Pd_series = pd.Series(Pd_array)\n",
        "Tr_series = pd.Series(Tr_array)\n",
        "CL_series = pd.Series(CL_array)\n",
        "CD_series = pd.Series(CD_array)\n",
        "D_series = pd.Series(D_array)\n",
        "Pr_series = pd.Series(Pr_array)\n",
        "\n",
        "df_cruz = pd.DataFrame()\n",
        "df_cruz['v [m/s]'] = v_series\n",
        "df_cruz['Td [N]'] = Td_series\n",
        "df_cruz['Pd [W]'] = Pd_series\n",
        "df_cruz['Pr [W]'] = Pr_series\n",
        "df_cruz['Tr [N]'] = Tr_series\n",
        "df_cruz['CL'] = CL_series\n",
        "df_cruz['CD'] = CD_series\n",
        "df_cruz['D [N]'] = D_series\n",
        "df_cruz['Pr [W]'] = Pr_series\n",
        "\n",
        "df_cruz.fillna('', inplace=True)\n",
        "\n",
        "planilha_PA_aba_2 = gc.open('PA_v_3_0').get_worksheet(2)\n",
        "planilha_PA_aba_2.update([df_cruz.columns.values.tolist()] + df_cruz.values.tolist())    "
      ],
      "execution_count": null,
      "outputs": [
        {
          "output_type": "execute_result",
          "data": {
            "text/plain": [
              "{'spreadsheetId': '1eS9TC6zEmL7uplT3cjtUptF6vf07YBkXGnr-8jg_Urs',\n",
              " 'updatedCells': 312,\n",
              " 'updatedColumns': 8,\n",
              " 'updatedRange': 'Cruzeiro!A1:H39',\n",
              " 'updatedRows': 39}"
            ]
          },
          "metadata": {},
          "execution_count": 99
        }
      ]
    },
    {
      "cell_type": "code",
      "metadata": {
        "colab": {
          "base_uri": "https://localhost:8080/",
          "height": 295
        },
        "id": "wVgkHOz_i2G9",
        "outputId": "013d54ba-1715-454e-8039-12350d2f4860"
      },
      "source": [
        "Tr_array_right = Tr_array[8:]\n",
        "v_array_right = v_array[8:]\n",
        "Tr_array_right = Tr_array_right.reshape(-1,1)\n",
        "v_array_right = v_array_right.reshape(-1,1)\n",
        "\n",
        "poly_reg2 = PolynomialFeatures(degree =6 )\n",
        "trac_req_poly = poly_reg2.fit_transform(v_array_right)\n",
        "lin_reg_req = LinearRegression()\n",
        "lin_reg_req.fit(trac_req_poly, Tr_array_right)\n",
        "\n",
        "plt.scatter(v_array_right, Tr_array_right)\n",
        "plt.plot(v_array_right, lin_reg_req.predict(poly_reg2.fit_transform(v_array_right)))\n",
        "plt.title('Tração requerida x velocidade')\n",
        "plt.ylabel('Tração [N]')\n",
        "plt.xlabel('Velocidade [m/s]')\n",
        "plt.show()"
      ],
      "execution_count": null,
      "outputs": [
        {
          "output_type": "display_data",
          "data": {
            "image/png": "[encoded data removed]",
            "text/plain": [
              "<Figure size 432x288 with 1 Axes>"
            ]
          },
          "metadata": {
            "needs_background": "light"
          }
        }
      ]
    },
    {
      "cell_type": "code",
      "metadata": {
        "id": "8k6jOyARi_xZ",
        "colab": {
          "base_uri": "https://localhost:8080/"
        },
        "outputId": "19c77094-1dbd-4e8f-ef22-cbbdc6002673"
      },
      "source": [
        "#Vamos agora fazer predições usando as regressões e encontrar as velocidades com predições quase idênticas\n",
        "velo_specificas = np.array([])\n",
        "amostra_velo = 5\n",
        "Tr_min_SJC = 1000\n",
        "\n",
        "while (amostra_velo < 40):\n",
        "\n",
        "  trac_disp_pred = lin_reg_2.predict(poly_reg.fit_transform([[amostra_velo]]))\n",
        "  trac_req_pred = lin_reg_req.predict(poly_reg2.fit_transform([[amostra_velo]]))\n",
        "\n",
        "  if float(trac_req_pred) < Tr_min_SJC:\n",
        "    Tr_min_SJC = float(trac_req_pred)\n",
        "    V_Tr_min_SJC = amostra_velo\n",
        "\n",
        "  compar = trac_disp_pred[[0]] - trac_req_pred[[0]]\n",
        "  \n",
        "  if (compar[[0]] < 0.01 and compar[[0]] > 0):\n",
        "    velo_specificas = np.append(velo_specificas, [amostra_velo])\n",
        "    \n",
        "  amostra_velo += 0.0001\n",
        "\n",
        "print(colored(\"A velocidade de \"+str(V_Tr_min_SJC)+\"m/s é a de menor tração requerida para São José dos Campos\", 'yellow'))\n",
        "print(colored(\"A velocidade de \"+str(velo_specificas[0])+\"m/s é a mínima para São José dos Campos\", 'magenta'))\n",
        "print(colored(\"A velocidade de \"+str(velo_specificas[-1])+\"m/s é a máxima para São José dos Campos\", \"cyan\"))\n",
        "  "
      ],
      "execution_count": null,
      "outputs": [
        {
          "output_type": "stream",
          "name": "stdout",
          "text": [
            "\u001b[33mA velocidade de 21.84589999996074m/s é a de menor tração requerida para São José dos Campos\u001b[0m\n",
            "\u001b[35mA velocidade de 10.198599999987884m/s é a mínima para São José dos Campos\u001b[0m\n",
            "\u001b[36mA velocidade de 24.480999999954598m/s é a máxima para São José dos Campos\u001b[0m\n"
          ]
        }
      ]
    },
    {
      "cell_type": "code",
      "metadata": {
        "id": "QYEGKu7wS-4C",
        "colab": {
          "base_uri": "https://localhost:8080/"
        },
        "outputId": "fb4b5829-5b9e-473a-deba-5a457aa3d344"
      },
      "source": [
        "Vstol = math.sqrt((2*W)/(dens*S*CLmax))                     \n",
        "print(colored(\"Velocidade de estol: \"+str(Vstol)+\"m/s\", \"magenta\"))\n",
        "\n",
        "Vcru = 0.9*velo_specificas[-1]\n",
        "print(colored(\"Velocidade de cruzeiro: \"+str(Vcru)+\"m/s\", \"yellow\"))\n",
        "\n",
        "Vmer = 1.25*velo_specificas[-1]\n",
        "print(colored(\"Velocidade de mergulho: \"+str(Vmer)+\"m/s\", \"red\"))\n",
        "\n",
        "dict_velos = {\"V. de estol\" : Vstol}\n",
        "dict_velos[\"V. mínima (se for maior q a de estol)\"] = velo_specificas[0]\n",
        "dict_velos[\"V. máxima\"] = velo_specificas[-1]\n",
        "dict_velos[\"V. de cruzeiro\"] = Vcru\n",
        "dict_velos[\"V. de mergulho\"] = Vmer"
      ],
      "execution_count": null,
      "outputs": [
        {
          "output_type": "stream",
          "name": "stdout",
          "text": [
            "\u001b[35mVelocidade de estol: 13.71611655239964m/s\u001b[0m\n",
            "\u001b[33mVelocidade de cruzeiro: 22.032899999959138m/s\u001b[0m\n",
            "\u001b[31mVelocidade de mergulho: 30.60124999994325m/s\u001b[0m\n"
          ]
        }
      ]
    },
    {
      "cell_type": "code",
      "metadata": {
        "id": "eh6_y0AWia-n",
        "colab": {
          "base_uri": "https://localhost:8080/",
          "height": 295
        },
        "outputId": "e245e114-e015-459f-8f72-32e20c359465"
      },
      "source": [
        "Pr_array_right = Pr_array[8:]\n",
        "v_array_right = v_array[8:]\n",
        "Pr_array_right = Pr_array_right.reshape(-1,1)\n",
        "v_array_right = v_array_right.reshape(-1,1)\n",
        "\n",
        "poly_regPR = PolynomialFeatures(degree =6 )\n",
        "pot_req_poly = poly_regPR.fit_transform(v_array_right)\n",
        "lin_reg_PR = LinearRegression()\n",
        "lin_reg_PR.fit(pot_req_poly, Pr_array_right)\n",
        "\n",
        "plt.scatter(v_array_right, Pr_array_right)\n",
        "plt.plot(v_array_right, lin_reg_PR.predict(poly_regPR.fit_transform(v_array_right)))\n",
        "plt.title('Potência requerida x velocidade')\n",
        "plt.ylabel('Potência [W]')\n",
        "plt.xlabel('Velocidade [m/s]')\n",
        "plt.show()"
      ],
      "execution_count": null,
      "outputs": [
        {
          "output_type": "display_data",
          "data": {
            "image/png": "[encoded data removed]",
            "text/plain": [
              "<Figure size 432x288 with 1 Axes>"
            ]
          },
          "metadata": {
            "needs_background": "light"
          }
        }
      ]
    },
    {
      "cell_type": "code",
      "metadata": {
        "id": "4526lpXPif7r",
        "colab": {
          "base_uri": "https://localhost:8080/",
          "height": 295
        },
        "outputId": "cb5a773e-ca40-4ce6-db2e-121e4c8bfe4a"
      },
      "source": [
        "Pd_array_right = Pd_array[8:]\n",
        "v_array_right = v_array[8:]\n",
        "Pd_array_right = Pd_array_right.reshape(-1,1)\n",
        "v_array_right = v_array_right.reshape(-1,1)\n",
        "\n",
        "poly_regPD = PolynomialFeatures(degree =6 )\n",
        "pot_disp_poly = poly_regPD.fit_transform(v_array_right)\n",
        "lin_reg_PD = LinearRegression()\n",
        "lin_reg_PD.fit(pot_disp_poly, Pd_array_right)\n",
        "\n",
        "plt.scatter(v_array_right, Pd_array_right)\n",
        "plt.plot(v_array_right, lin_reg_PD.predict(poly_regPD.fit_transform(v_array_right)))\n",
        "plt.title('Potência disponível x velocidade')\n",
        "plt.ylabel('Potência [W]')\n",
        "plt.xlabel('Velocidade [m/s]')\n",
        "plt.show()"
      ],
      "execution_count": null,
      "outputs": [
        {
          "output_type": "display_data",
          "data": {
            "image/png": "[encoded data removed]",
            "text/plain": [
              "<Figure size 432x288 with 1 Axes>"
            ]
          },
          "metadata": {
            "needs_background": "light"
          }
        }
      ]
    },
    {
      "cell_type": "code",
      "metadata": {
        "id": "Ee84C0LIikEI",
        "colab": {
          "base_uri": "https://localhost:8080/"
        },
        "outputId": "e957fa4e-823d-478d-a7a7-5bd2b5d35b4f"
      },
      "source": [
        "velo_specificas = np.array([])\n",
        "amostra_velo = 5\n",
        "Pr_min_SJC = 1000\n",
        "\n",
        "while (amostra_velo < 40):\n",
        "  #fazendo predições para a tração requerida no range de velocidades entre 5 e 30 m/s\n",
        "  pot_disp_pred = lin_reg_PD.predict(poly_regPD.fit_transform([[amostra_velo]]))\n",
        "  #print(trac_disp_pred[[0]]) #--->flag\n",
        "  #fazendo predições para a tração requerida no range de velocidades entre 5 e 30 m/s\n",
        "  pot_req_pred = lin_reg_PR.predict(poly_regPR.fit_transform([[amostra_velo]]))\n",
        "  if float(pot_req_pred) < Pr_min_SJC:\n",
        "    Pr_min_SJC = float(pot_req_pred)\n",
        "    V_Pr_min_SJC = amostra_velo\n",
        "\n",
        "  #print(trac_req_pred[[0]])  #--->flag\n",
        "\n",
        "  compar = pot_disp_pred[[0]] - pot_req_pred[[0]]\n",
        "  #print (colored(compar, 'blue'))   #--->flag\n",
        "  \n",
        "  if (compar[[0]] < 0.01 and compar[[0]] > 0):\n",
        "    velo_specificas = np.append(velo_specificas, [amostra_velo])\n",
        "  amostra_velo += 0.001\n",
        "\n",
        "print(colored(\"A velocidade de \"+str(V_Pr_min_SJC)+\"m/s é a de menor potência requerida para São José dos Campos\", 'yellow'))"
      ],
      "execution_count": null,
      "outputs": [
        {
          "output_type": "stream",
          "name": "stdout",
          "text": [
            "\u001b[33mA velocidade de 16.641999999997353m/s é a de menor potência requerida para São José dos Campos\u001b[0m\n"
          ]
        }
      ]
    },
    {
      "cell_type": "code",
      "metadata": {
        "colab": {
          "base_uri": "https://localhost:8080/"
        },
        "id": "7Zws0lums6b6",
        "outputId": "9898dad0-3ca9-4f71-ef15-615688222505"
      },
      "source": [
        "#CÁUCULO DO TEMPO DO VOO DE CRUZEIRO(VOO RETO E NIVELADO)\n",
        "\n",
        "tcru = hcru/Vcru\n",
        "print(\"Tempo de cruzeiro: \"+str(tcru)+\"s\")"
      ],
      "execution_count": null,
      "outputs": [
        {
          "output_type": "stream",
          "name": "stdout",
          "text": [
            "Tempo de cruzeiro: 36.30933740004646s\n"
          ]
        }
      ]
    },
    {
      "cell_type": "markdown",
      "metadata": {
        "id": "4FrJ_LCf83aI"
      },
      "source": [
        "DESEMPENHO EM SUBIDA\n",
        "---"
      ]
    },
    {
      "cell_type": "code",
      "metadata": {
        "colab": {
          "base_uri": "https://localhost:8080/"
        },
        "id": "dOuCpXzLioSK",
        "outputId": "23e6a235-81e9-4ff6-e0e0-9cd8cca6ad44"
      },
      "source": [
        "df_climb = df_cruz.filter(['v [m/s]', 'Pd [W]', 'Pr [W]'], axis=1)\n",
        "df_climb = df_climb.replace(r'^\\s*$', np.nan, regex=True)\n",
        "print(df_climb)"
      ],
      "execution_count": null,
      "outputs": [
        {
          "output_type": "stream",
          "name": "stdout",
          "text": [
            "    v [m/s]      Pd [W]        Pr [W]\n",
            "0       2.0   69.892365  3.129733e+07\n",
            "1       3.0  103.946517  1.832560e+06\n",
            "2       4.0  137.034084  2.412001e+05\n",
            "3       5.0  168.906841  4.874695e+04\n",
            "4       6.0  199.325334  1.277405e+04\n",
            "5       7.0  228.064145  4.009529e+03\n",
            "6       8.0  254.897852  1.479303e+03\n",
            "7       9.0  279.615947  6.640650e+02\n",
            "8      10.0  302.009677  3.818179e+02\n",
            "9      11.0  321.867656  2.784764e+02\n",
            "10     12.0  338.992531  2.376391e+02\n",
            "11     13.0  353.193967  2.188544e+02\n",
            "12     14.0  364.276368  2.078741e+02\n",
            "13     15.0  372.034487  1.999514e+02\n",
            "14     16.0  376.305181  1.938561e+02\n",
            "15     17.0  376.876185  1.896342e+02\n",
            "16     18.0  373.579094  1.877503e+02\n",
            "17     19.0  366.235852  1.887620e+02\n",
            "18     20.0  354.654371  1.932034e+02\n",
            "19     21.0  338.679399  2.015514e+02\n",
            "20     22.0  318.104814  2.142222e+02\n",
            "21     23.0  292.781506  2.315797e+02\n",
            "22     24.0  262.525280  2.539449e+02\n",
            "23     25.0  227.173869  2.816059e+02\n",
            "24     26.0  186.545708  3.148260e+02\n",
            "25     27.0  140.435552  3.538494e+02\n",
            "26     28.0   88.659207  3.989067e+02\n",
            "27     29.0   31.286841  4.502186e+02\n",
            "28     30.0    0.000000  5.079981e+02\n",
            "29     31.0    0.000000  5.724534e+02\n",
            "30     32.0    0.000000  6.437890e+02\n",
            "31     33.0    0.000000  7.222068e+02\n",
            "32     34.0    0.000000  8.079071e+02\n",
            "33     35.0    0.000000  9.010894e+02\n",
            "34     36.0    0.000000  1.001953e+03\n",
            "35     37.0    0.000000  1.110695e+03\n",
            "36     38.0    0.000000  1.227517e+03\n",
            "37     39.0    0.000000  1.352615e+03\n"
          ]
        }
      ]
    },
    {
      "cell_type": "code",
      "metadata": {
        "colab": {
          "base_uri": "https://localhost:8080/",
          "height": 1000
        },
        "id": "no661RKriwgV",
        "outputId": "4479e5f0-a3cb-4e48-a144-a7a6e3fbcfec"
      },
      "source": [
        "#Transformando em Numpy arrays as duas colunas do dataframe da subida pra poder fazer operações matemáticas com os valores delas\n",
        "#Provavelmente tem um jeito de iterar sobre os valores do dataframe sem transformar as colunas em numpy arrays porém foi implementado assim por enquanto\n",
        "Pd_O_array = np.array(df_climb[['Pd [W]']].values)\n",
        "Pr_array = np.array(df_climb[['Pr [W]']].values)\n",
        "v_array = np.array(df_climb['v [m/s]'].values)\n",
        "\n",
        "#Calculando a sobra de potência fazendo Potencia disponível subtraida da Potência Requerida\n",
        "Delta_pot = np.array([None]*38)\n",
        "i=37\n",
        "while i>7:\n",
        "  Delta_pot[i] = float(Pd_O_array[i]) - float(Pr_array[i])\n",
        "  i = i - 1\n",
        "df_climb['Sobra de potência [W]'] = Delta_pot\n",
        "#print(df_climb)\n",
        "\n",
        "#Calculando a razão de subida a partir da sobra de potência e do MTOW da aeronave\n",
        "R_C = np.array([None]*38)\n",
        "i = 37\n",
        "while i>7:\n",
        "  R_C[i] = Delta_pot[i]/mtowDSJC\n",
        "  i = i - 1\n",
        "df_climb['Rate of Climb [m/s]'] = R_C\n",
        "#print(df_climb)\n",
        "\n",
        "#Calculando o ângulo de subida da aeronave para diferentes velocidades de subida\n",
        "#Comecei a fazer os WHILE ao contrário agora pq parece q dá pra ter um controle melhor, q nem aq eu pcisava começar os calculo a partir do quarto valor\n",
        "#de razão de subida pq dá alguma merda no valor, algo de a função math.asin() não suportar o input que você fornece, até dá pau no Excel tbm se fizer isso\n",
        "Angulo_subida = np.array([None]*38)\n",
        "i=8\n",
        "while i<33:\n",
        "  Angulo_subida[i] = math.asin(float(R_C[i])/float(v_array[i])) \n",
        "  i = i + 1\n",
        "df_climb['Angulo de subida [rad]'] = Angulo_subida\n",
        "#print(df_climb)\n",
        "\n",
        "#Substituindo os valores None do dataframe com NaN, pq o NaN é meio considerado como número mas o None é realmente nada, aí quando fui fazer o cosseno\n",
        "#do angulo deu bosta\n",
        "\n",
        "df_climb = df_climb.fillna(value=np.nan)\n",
        "Angulo_subida = np.array(df_climb['Angulo de subida [rad]'])\n",
        "#aí dps disso eu aplico a função map(), que recebe como parâmetros a função q vc quer aplicar e um grupo de valores q vc quer aplicar essa função\n",
        "#fiz isso porque quando fui fazer o caraio do cosseno nos angulo deu ruim, acho q o math.cos() so aceita valores unitarios como input, algo do tipo, nem entendi mt bem\n",
        "Cos_Angulo_Subida = np.array(list(map(math.cos, Angulo_subida)))\n",
        "\n",
        "#Calculando a velocidade horizontal da aeronave durante a sua subida para diferentes angulos\n",
        "\n",
        "Velo_h_climb = np.array([None]*38)\n",
        "i = 8\n",
        "while i<37:\n",
        "  Velo_h_climb[i] = float(v_array[i])*float(Cos_Angulo_Subida[i])\n",
        "  i = i + 1\n",
        "df_climb['Vh [m/s]'] = Velo_h_climb\n",
        "\n",
        "df_climb['Vh [m/s]'] = df_climb['Vh [m/s]'].fillna(0)\n",
        "\n",
        "Velo_h_climb_1 = np.array(df_climb['Vh [m/s]'])\n",
        "Velo_h_climb_max = np.max(Velo_h_climb_1)\n",
        "\n",
        "#print(df_climb)\n",
        "\n",
        "print(df_climb)\n",
        "plt.scatter(Velo_h_climb, R_C)\n",
        "plt.ylabel(\"Razão de subida [m/s]\")\n",
        "plt.xlabel(\"Velocidade horizontal [m/s]\")\n",
        "plt.title(\"Polar de velocidades\")\n",
        "plt.grid()\n",
        "plt.show()\n",
        "\n",
        "df_climb = df_climb.fillna(value=np.nan)\n",
        "df_climb.fillna('', inplace=True)\n",
        "planilha_PA_aba_3 = gc.open('PA_v_3_0').get_worksheet(3)\n",
        "planilha_PA_aba_3.update([df_climb.columns.values.tolist()] + df_climb.values.tolist())   "
      ],
      "execution_count": null,
      "outputs": [
        {
          "output_type": "stream",
          "name": "stdout",
          "text": [
            "    v [m/s]      Pd [W]  ...  Angulo de subida [rad]   Vh [m/s]\n",
            "0       2.0   69.892365  ...                     NaN   0.000000\n",
            "1       3.0  103.946517  ...                     NaN   0.000000\n",
            "2       4.0  137.034084  ...                     NaN   0.000000\n",
            "3       5.0  168.906841  ...                     NaN   0.000000\n",
            "4       6.0  199.325334  ...                     NaN   0.000000\n",
            "5       7.0  228.064145  ...                     NaN   0.000000\n",
            "6       8.0  254.897852  ...                     NaN   0.000000\n",
            "7       9.0  279.615947  ...                     NaN   0.000000\n",
            "8      10.0  302.009677  ...               -0.062878   9.980239\n",
            "9      11.0  321.867656  ...                0.031063  10.994693\n",
            "10     12.0  338.992531  ...                0.066549  11.973437\n",
            "11     13.0  353.193967  ...                0.081452  12.956900\n",
            "12     14.0  364.276368  ...                0.088072  13.945738\n",
            "13     15.0  372.034487  ...                0.090449  14.938685\n",
            "14     16.0  376.305181  ...                0.089902  15.935385\n",
            "15     17.0  376.876185  ...                0.086828  16.935957\n",
            "16     18.0  373.579094  ...                0.081373  17.940438\n",
            "17     19.0  366.235852  ...                0.073610  18.948549\n",
            "18     20.0  354.654371  ...                0.063601  19.959562\n",
            "19     21.0  338.679399  ...                0.051435  20.972228\n",
            "20     22.0  318.104814  ...                0.037186  21.984791\n",
            "21     23.0  292.781506  ...                0.020952  22.994952\n",
            "22     24.0  262.525280  ...                0.002815  23.999905\n",
            "23     25.0  227.173869  ...               -0.017143  24.996326\n",
            "24     26.0  186.545708  ...               -0.038856  25.980375\n",
            "25     27.0  140.435552  ...               -0.062273  26.947664\n",
            "26     28.0   88.659207  ...               -0.087350  27.893247\n",
            "27     29.0   31.286841  ...               -0.113985  28.811811\n",
            "28     30.0    0.000000  ...               -0.133720  29.732182\n",
            "29     31.0    0.000000  ...               -0.145909  30.670598\n",
            "30     32.0    0.000000  ...               -0.159070  31.596000\n",
            "31     33.0    0.000000  ...               -0.173174  32.506413\n",
            "32     34.0    0.000000  ...               -0.188196  33.399671\n",
            "33     35.0    0.000000  ...                     NaN   0.000000\n",
            "34     36.0    0.000000  ...                     NaN   0.000000\n",
            "35     37.0    0.000000  ...                     NaN   0.000000\n",
            "36     38.0    0.000000  ...                     NaN   0.000000\n",
            "37     39.0    0.000000  ...                     NaN   0.000000\n",
            "\n",
            "[38 rows x 7 columns]\n"
          ]
        },
        {
          "output_type": "display_data",
          "data": {
            "image/png": "[encoded data removed]",
            "text/plain": [
              "<Figure size 432x288 with 1 Axes>"
            ]
          },
          "metadata": {
            "needs_background": "light"
          }
        },
        {
          "output_type": "execute_result",
          "data": {
            "text/plain": [
              "{'spreadsheetId': '1eS9TC6zEmL7uplT3cjtUptF6vf07YBkXGnr-8jg_Urs',\n",
              " 'updatedCells': 273,\n",
              " 'updatedColumns': 7,\n",
              " 'updatedRange': 'Subida!A1:G39',\n",
              " 'updatedRows': 39}"
            ]
          },
          "metadata": {},
          "execution_count": 108
        }
      ]
    },
    {
      "cell_type": "code",
      "metadata": {
        "colab": {
          "base_uri": "https://localhost:8080/"
        },
        "id": "Czc3CI9YH2EZ",
        "outputId": "9eaf0471-f5a1-400d-ef0a-6adf70abc5d8"
      },
      "source": [
        "print(Angulo_subida)"
      ],
      "execution_count": null,
      "outputs": [
        {
          "output_type": "stream",
          "name": "stdout",
          "text": [
            "[        nan         nan         nan         nan         nan         nan\n",
            "         nan         nan -0.06287759  0.03106288  0.06654873  0.08145226\n",
            "  0.08807218  0.0904485   0.08990191  0.08682847  0.0813733   0.07360973\n",
            "  0.06360124  0.05143521  0.03718623  0.02095223  0.00281487 -0.01714345\n",
            " -0.03885598 -0.06227326 -0.08735038 -0.11398512 -0.1337205  -0.14590919\n",
            " -0.15907016 -0.17317395 -0.18819638         nan         nan         nan\n",
            "         nan         nan]\n"
          ]
        }
      ]
    },
    {
      "cell_type": "code",
      "metadata": {
        "colab": {
          "base_uri": "https://localhost:8080/",
          "height": 295
        },
        "id": "JypB_jbZi0Uc",
        "outputId": "82dadc0c-695b-46eb-efe8-5490f15231ac"
      },
      "source": [
        "RC_right = R_C[9:30]\n",
        "RC_right = RC_right.reshape(-1,1)\n",
        "Velo_h_climb_right = Velo_h_climb[9:30]\n",
        "Velo_h_climb_right = Velo_h_climb_right.reshape(-1, 1)\n",
        "\n",
        "poly_reg7 = PolynomialFeatures(degree = 5)\n",
        "vh_poly7 = poly_reg7.fit_transform(Velo_h_climb_right)\n",
        "lin_reg_7 = LinearRegression()\n",
        "lin_reg_7.fit(vh_poly7, RC_right)\n",
        "\n",
        "plt.scatter(Velo_h_climb_right, RC_right)\n",
        "plt.plot(Velo_h_climb_right, lin_reg_7.predict(poly_reg7.fit_transform(Velo_h_climb_right)))\n",
        "plt.title('Polar de subida')\n",
        "plt.ylabel('Razão de subida [m/s]')\n",
        "plt.xlabel('Velocidade horizontal [m/s]')\n",
        "plt.show()"
      ],
      "execution_count": null,
      "outputs": [
        {
          "output_type": "display_data",
          "data": {
            "image/png": "[encoded data removed]",
            "text/plain": [
              "<Figure size 432x288 with 1 Axes>"
            ]
          },
          "metadata": {
            "needs_background": "light"
          }
        }
      ]
    },
    {
      "cell_type": "code",
      "metadata": {
        "id": "0pUrGM5Ki6nS",
        "colab": {
          "base_uri": "https://localhost:8080/"
        },
        "outputId": "74b39051-3cda-4ba5-cc1c-f961bb047378"
      },
      "source": [
        "amostra_velo = 9\n",
        "RC_max = 0\n",
        "RC_temp = 0\n",
        "Vh_RCmax = 0\n",
        "ang_RCmax = 0\n",
        "\n",
        "while (amostra_velo < Velo_h_climb_max and amostra_velo>0):\n",
        "  RC_pred7 = lin_reg_7.predict(poly_reg7.fit_transform([[amostra_velo]])) \n",
        "  RC_temp = RC_pred7\n",
        "  if (RC_temp > RC_max and RC_temp>0):\n",
        "    RC_max = RC_temp\n",
        "    Vh_RCmax = amostra_velo\n",
        "  amostra_velo += 0.001\n",
        "ang_RCmax = math.atan(float(RC_max)/(Vh_RCmax))\n",
        "ang_RCmax_deg = ang_RCmax * (180/3.14)\n",
        "\n",
        "print(colored(\"Razão de subida máxima: \"+str(float(RC_max))+\"m/s\", 'cyan'))\n",
        "print(colored(\"Vh para máxima RC: \"+str(float(Vh_RCmax))+\"m/s\", 'magenta'))\n",
        "print(colored(\"Angulo para máxima RC: \"+str(float(ang_RCmax_deg))+\" graus\", 'red'))"
      ],
      "execution_count": null,
      "outputs": [
        {
          "output_type": "stream",
          "name": "stdout",
          "text": [
            "\u001b[36mRazão de subida máxima: 1.4470913159590992m/s\u001b[0m\n",
            "\u001b[35mVh para máxima RC: 17.028999999997378m/s\u001b[0m\n",
            "\u001b[31mAngulo para máxima RC: 4.859678287865177 graus\u001b[0m\n"
          ]
        }
      ]
    },
    {
      "cell_type": "code",
      "metadata": {
        "id": "I16UgYD_tqLc",
        "colab": {
          "base_uri": "https://localhost:8080/"
        },
        "outputId": "026324dd-2827-4c90-f316-a15befeaacfe"
      },
      "source": [
        "#CÁLCULO DO TEMPO DE SUBIDA CONFORME ALTURA ESPECIFICADA NOS INPUTS\n",
        "\n",
        "tclimb = hclimb/RC_max\n",
        "print(\"Tempo de subida: \"+str(float(tclimb))+\"s\")"
      ],
      "execution_count": null,
      "outputs": [
        {
          "output_type": "stream",
          "name": "stdout",
          "text": [
            "Tempo de subida: 41.46248363064315s\n"
          ]
        }
      ]
    },
    {
      "cell_type": "markdown",
      "metadata": {
        "id": "dHN6z19d9EGT"
      },
      "source": [
        "DESEMPENHO EM DESCIDA\n",
        "---"
      ]
    },
    {
      "cell_type": "code",
      "metadata": {
        "id": "gjXosNCOjNNm",
        "colab": {
          "base_uri": "https://localhost:8080/",
          "height": 677
        },
        "outputId": "29bf3afc-98ed-4e7d-dfb9-9d5a395f1fe0"
      },
      "source": [
        "CL_desc_array_SJC = np.array([])\n",
        "CD_desc_array_SJC = np.array([])\n",
        "Eff_aero_desc_array_SJC = np.array([])\n",
        "Angulo_planeio_array_SJC = np.array([])\n",
        "Velo_planeio_array_SJC = np.array([])\n",
        "Velo_h_planeio_array_SJC = np.array([])\n",
        "R_D_array_SJC = np.array([])\n",
        "\n",
        "anguloMinimo = 40\n",
        "\n",
        "CL = 0.2\n",
        "while CL < 1.9:\n",
        "  CD_poly = float(lin_reg_polar.predict(poly_reg1.fit_transform([[CL]])))\n",
        "  Eff_SJC = CL/CD_poly\n",
        "  Ang_planeio_SJC = math.atan(1/Eff_SJC)\n",
        "\n",
        "  if (Ang_planeio_SJC < anguloMinimo):\n",
        "    anguloMinimo = Ang_planeio_SJC\n",
        "\n",
        "  Velo_planeio_SJC = math.sqrt((W*math.cos(Ang_planeio_SJC))/(dens*S*CL))\n",
        "  Velo_h_planeio_SJC = Velo_planeio_SJC*math.cos(Ang_planeio_SJC)\n",
        "  R_D_SJC = Velo_planeio_SJC*math.sin(Ang_planeio_SJC)\n",
        "\n",
        "  CL_desc_array_SJC = np.append(CL_desc_array_SJC, [CL])\n",
        "  CD_desc_array_SJC = np.append(CD_desc_array_SJC, [CD_poly])\n",
        "  Eff_aero_desc_array_SJC = np.append(Eff_aero_desc_array_SJC, [Eff_SJC])\n",
        "  Angulo_planeio_array_SJC = np.append(Angulo_planeio_array_SJC, [Ang_planeio_SJC])\n",
        "  Velo_planeio_array_SJC = np.append(Velo_planeio_array_SJC, [Velo_planeio_SJC])\n",
        "  Velo_h_planeio_array_SJC = np.append(Velo_h_planeio_array_SJC, [Velo_h_planeio_SJC])\n",
        "  R_D_array_SJC = np.append(R_D_array_SJC, [R_D_SJC])\n",
        "\n",
        "  CL = CL + 0.01\n",
        "\n",
        "df_descent = pd.DataFrame({\"CL\":CL_desc_array_SJC, \"CD\":CD_desc_array_SJC, \"Eficiência aerodinâmica\":Eff_aero_desc_array_SJC, \"Angulo de descida [deg]\":Angulo_planeio_array_SJC, \"Velocidade de planeio [m/s]\":Velo_planeio_array_SJC, \"Velocidade horizontal [m/s]\":Velo_h_planeio_array_SJC, \"Razão de desicda [m/s]\":R_D_array_SJC})\n",
        "print(df_descent)\n",
        "\n",
        "plt.scatter(Velo_h_planeio_array_SJC, R_D_array_SJC)\n",
        "plt.xlabel(\"Velocidade horizontal [m/s]\")\n",
        "plt.ylabel(\"Razão de descida [m/s]\")\n",
        "plt.gca().invert_yaxis()\n",
        "plt.title(\"Polar de descida\")\n",
        "plt.grid()\n",
        "plt.show()\n",
        "\n",
        "anguloMinimo = anguloMinimo*(180/3.1415)\n",
        "print(colored(\"\\nO ângulo mínimo com que se pode realizar o voo de planeio é: \"+str(anguloMinimo)+\"graus\\n\", 'red'))\n",
        "\n",
        "planilha_PA_aba_4 = gc.open('PA_v_3_0').get_worksheet(4)\n",
        "planilha_PA_aba_4.update([df_descent.columns.values.tolist()] + df_descent.values.tolist())    "
      ],
      "execution_count": null,
      "outputs": [
        {
          "output_type": "stream",
          "name": "stdout",
          "text": [
            "       CL        CD  ...  Velocidade horizontal [m/s]  Razão de desicda [m/s]\n",
            "0    0.20  0.041306  ...                    24.148086                4.987315\n",
            "1    0.21  0.040541  ...                    23.657841                4.567157\n",
            "2    0.22  0.039828  ...                    23.189305                4.198116\n",
            "3    0.23  0.039168  ...                    22.741943                3.872839\n",
            "4    0.24  0.038559  ...                    22.314978                3.585198\n",
            "..    ...       ...  ...                          ...                     ...\n",
            "165  1.85  0.314870  ...                     8.018919                1.364820\n",
            "166  1.86  0.318891  ...                     7.994853                1.370690\n",
            "167  1.87  0.322969  ...                     7.970921                1.376664\n",
            "168  1.88  0.327107  ...                     7.947120                1.382744\n",
            "169  1.89  0.331305  ...                     7.923448                1.388932\n",
            "\n",
            "[170 rows x 7 columns]\n"
          ]
        },
        {
          "output_type": "display_data",
          "data": {
            "image/png": "[encoded data removed]",
            "text/plain": [
              "<Figure size 432x288 with 1 Axes>"
            ]
          },
          "metadata": {
            "needs_background": "light"
          }
        },
        {
          "output_type": "stream",
          "name": "stdout",
          "text": [
            "\u001b[31m\n",
            "O ângulo mínimo com que se pode realizar o voo de planeio é: 4.319982360704852graus\n",
            "\u001b[0m\n"
          ]
        },
        {
          "output_type": "execute_result",
          "data": {
            "text/plain": [
              "{'spreadsheetId': '1eS9TC6zEmL7uplT3cjtUptF6vf07YBkXGnr-8jg_Urs',\n",
              " 'updatedCells': 1197,\n",
              " 'updatedColumns': 7,\n",
              " 'updatedRange': 'Descida!A1:G171',\n",
              " 'updatedRows': 171}"
            ]
          },
          "metadata": {},
          "execution_count": 113
        }
      ]
    },
    {
      "cell_type": "markdown",
      "metadata": {
        "id": "BRTiqdpV9V6d"
      },
      "source": [
        "DESEMPENHO EM CURVA\n",
        "---"
      ]
    },
    {
      "cell_type": "code",
      "metadata": {
        "id": "B4YC0Yk1jQa9",
        "colab": {
          "base_uri": "https://localhost:8080/"
        },
        "outputId": "ed649821-f9e4-40aa-c2d9-51bb2aec618e"
      },
      "source": [
        "#Encontrar o raio mínimo para realização de uma curva fora da região de estoL\n",
        "pi = 3.14159\n",
        "E = 0.924837176\n",
        "Eo = 0.693627882\n",
        "AR = 2.812939522\n",
        "CDo = 0.00715\n",
        "#Calcular o valor de tração disponível máxima para a velocidade de estol\n",
        "Vstol = math.sqrt((2*W)/((dens*S*CLmax)))\n",
        "Tdd_stall = lin_reg_2.predict(poly_reg.fit_transform([[Vstol]]))\n",
        "Tdd_stall = float(Tdd_stall)\n",
        "Tdd_stall = Tdd_stall*(dens/1.225)\n",
        "print(\"Tração disponível dinâmmica para velocidade de estol: \"+str((Tdd_stall))+\"m/s\")\n",
        "#Calcular relação T/W\n",
        "T_W = Tdd_stall/W\n",
        "#Calcular carga alar W/S\n",
        "Alar = W/S\n",
        "#Calcular velocidade de curva de raio mínimo\n",
        "K = 1/(pi*Eo*AR)\n",
        "print(colored(\"K: \"+str(K), 'yellow'))\n",
        "v_rmin = math.sqrt((4*K*Alar)/(dens*T_W))\n",
        "print(colored(\"Velocidade de raio de curva mínimo: \"+str(v_rmin*0.8)+\"m/s\", 'cyan'))\n",
        "#Calcular o fator de carga para raio de curva mínimo\n",
        "n_rmin = math.sqrt(2-((4*K*CDo)/(T_W**2)))\n",
        "print(colored(\"Fator de carga para raio de curva mínimo: \"+str(n_rmin), 'magenta'))\n",
        "#Calcular o raio de curva mínimo\n",
        "rmin = (4*K*Alar)/(dens*g*T_W*(math.sqrt((1-4*K*CDo)/(T_W**2))))\n",
        "print(colored(\"Raio de curva mínimo: \"+str(rmin)+\"m\", 'red'))\n",
        "#Calcular o angulo para raio de curva mínimo\n",
        "ang_rmin = math.acos(1/n_rmin)\n",
        "print(colored(\"Ângulo de curva para raio mínimo: \"+str(ang_rmin*180/3.14)+\" graus\", 'green'))"
      ],
      "execution_count": null,
      "outputs": [
        {
          "output_type": "stream",
          "name": "stdout",
          "text": [
            "Tração disponível dinâmmica para velocidade de estol: 26.87949862951611m/s\n",
            "\u001b[33mK: 0.16314116408579046\u001b[0m\n",
            "\u001b[36mVelocidade de raio de curva mínimo: 15.653565392853336m/s\u001b[0m\n",
            "\u001b[35mFator de carga para raio de curva mínimo: 1.376889646796437\u001b[0m\n",
            "\u001b[31mRaio de curva mínimo: 8.312866355430858m\u001b[0m\n",
            "\u001b[32mÂngulo de curva para raio mínimo: 43.44704138257627 graus\u001b[0m\n"
          ]
        }
      ]
    },
    {
      "cell_type": "markdown",
      "metadata": {
        "id": "JnQgcuvfQBAR"
      },
      "source": [
        "Envelope de voo\n",
        "---"
      ]
    },
    {
      "cell_type": "code",
      "metadata": {
        "id": "WlTZ7GEdQIHg"
      },
      "source": [
        ""
      ],
      "execution_count": null,
      "outputs": []
    },
    {
      "cell_type": "markdown",
      "metadata": {
        "id": "A6ql0mm51FlA"
      },
      "source": [
        "\n",
        "\n",
        "Carga paga x altitude-densidade\n",
        "---"
      ]
    },
    {
      "cell_type": "code",
      "metadata": {
        "id": "L0OgK_eq1E9r"
      },
      "source": [
        ""
      ],
      "execution_count": null,
      "outputs": []
    }
  ]
}